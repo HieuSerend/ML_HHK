{
  "metadata": {
    "kernelspec": {
      "language": "python",
      "display_name": "Python 3",
      "name": "python3"
    },
    "language_info": {
      "name": "python",
      "version": "3.10.14",
      "mimetype": "text/x-python",
      "codemirror_mode": {
        "name": "ipython",
        "version": 3
      },
      "pygments_lexer": "ipython3",
      "nbconvert_exporter": "python",
      "file_extension": ".py"
    },
    "kaggle": {
      "accelerator": "none",
      "dataSources": [
        {
          "sourceId": 81933,
          "databundleVersionId": 9643020,
          "sourceType": "competition"
        }
      ],
      "dockerImageVersionId": 30786,
      "isInternetEnabled": false,
      "language": "python",
      "sourceType": "notebook",
      "isGpuEnabled": false
    },
    "colab": {
      "name": "ML_HHK notebook",
      "provenance": [],
      "include_colab_link": true
    }
  },
  "nbformat_minor": 0,
  "nbformat": 4,
  "cells": [
    {
      "cell_type": "markdown",
      "metadata": {
        "id": "view-in-github",
        "colab_type": "text"
      },
      "source": [
        "<a href=\"https://colab.research.google.com/github/HieuSerend/ML_HHK/blob/main/ML_HHK_notebook.ipynb\" target=\"_parent\"><img src=\"https://colab.research.google.com/assets/colab-badge.svg\" alt=\"Open In Colab\"/></a>"
      ]
    },
    {
      "source": [
        "# IMPORTANT: SOME KAGGLE DATA SOURCES ARE PRIVATE\n",
        "# RUN THIS CELL IN ORDER TO IMPORT YOUR KAGGLE DATA SOURCES.\n",
        "import kagglehub\n",
        "kagglehub.login()\n"
      ],
      "metadata": {
        "id": "ZYScfTbrPB8s"
      },
      "cell_type": "code",
      "outputs": [],
      "execution_count": null
    },
    {
      "source": [
        "# IMPORTANT: RUN THIS CELL IN ORDER TO IMPORT YOUR KAGGLE DATA SOURCES,\n",
        "# THEN FEEL FREE TO DELETE THIS CELL.\n",
        "# NOTE: THIS NOTEBOOK ENVIRONMENT DIFFERS FROM KAGGLE'S PYTHON\n",
        "# ENVIRONMENT SO THERE MAY BE MISSING LIBRARIES USED BY YOUR\n",
        "# NOTEBOOK.\n",
        "\n",
        "child_mind_institute_problematic_internet_use_path = kagglehub.competition_download('child-mind-institute-problematic-internet-use')\n",
        "\n",
        "print('Data source import complete.')\n"
      ],
      "metadata": {
        "id": "v1CIttvlPB80"
      },
      "cell_type": "code",
      "outputs": [],
      "execution_count": null
    },
    {
      "cell_type": "markdown",
      "source": [
        "# Child Mind Institute — Problematic Internet Use\n",
        "* In this challenge, the value of sii (target) is unknown for 1224 rows of train.csv file.\n",
        "* A KNNImputer is used for handling features and missing values\n",
        "* LGBMRegressor is used to predict the value of the sii column (presumably a target variable) based on the provided features in the dataset."
      ],
      "metadata": {
        "id": "1lAWPITkPB83"
      }
    },
    {
      "cell_type": "code",
      "source": [
        "import numpy as np\n",
        "import pandas as pd\n",
        "\n",
        "#....................................................\n",
        "import warnings\n",
        "warnings.filterwarnings('ignore')\n",
        "pd.options.display.max_columns = None\n",
        "!ls ../input/*"
      ],
      "metadata": {
        "trusted": true,
        "execution": {
          "iopub.status.busy": "2024-12-18T08:38:59.714763Z",
          "iopub.execute_input": "2024-12-18T08:38:59.715158Z",
          "iopub.status.idle": "2024-12-18T08:39:00.901071Z",
          "shell.execute_reply.started": "2024-12-18T08:38:59.715127Z",
          "shell.execute_reply": "2024-12-18T08:39:00.899512Z"
        },
        "id": "foJrWDy4PB86"
      },
      "outputs": [],
      "execution_count": null
    },
    {
      "cell_type": "code",
      "source": [
        "train_data = pd.read_csv('/kaggle/input/child-mind-institute-problematic-internet-use/train.csv', index_col='id')\n",
        "test_data = pd.read_csv('/kaggle/input/child-mind-institute-problematic-internet-use/test.csv', index_col='id')\n",
        "\n",
        "train_data.shape, test_data.shape"
      ],
      "metadata": {
        "trusted": true,
        "execution": {
          "iopub.status.busy": "2024-12-18T08:39:00.904415Z",
          "iopub.execute_input": "2024-12-18T08:39:00.904963Z",
          "iopub.status.idle": "2024-12-18T08:39:00.959468Z",
          "shell.execute_reply.started": "2024-12-18T08:39:00.904897Z",
          "shell.execute_reply": "2024-12-18T08:39:00.958172Z"
        },
        "id": "uGDQ8e4hPB88"
      },
      "outputs": [],
      "execution_count": null
    },
    {
      "cell_type": "markdown",
      "source": [
        "**Impute missing values in the 'sii' column using a LightGBM regression model.**"
      ],
      "metadata": {
        "id": "Vi3ue3FIPB89"
      }
    },
    {
      "cell_type": "code",
      "source": [
        "from sklearn.impute import KNNImputer\n",
        "from lightgbm import LGBMRegressor\n",
        "\n",
        "def filling_sii(data):\n",
        "    # Filling missing data\n",
        "    num_imputer = KNNImputer(n_neighbors=2, weights=\"uniform\")\n",
        "\n",
        "    features = data.columns.tolist()\n",
        "\n",
        "    num_features = [f for f in features if data[f].dtype == 'float' or f == 'Basic_Demos-Age']\n",
        "    impute_features = [f for f in num_features if f != 'sii']\n",
        "\n",
        "    num_imputer.fit(data[impute_features])\n",
        "    data[impute_features] = num_imputer.transform(data[impute_features])\n",
        "\n",
        "    cat_features = [f for f in features if f not in num_features and f != 'sii']\n",
        "\n",
        "    for cat in cat_features:\n",
        "        data[cat] = data[cat].fillna('unknown')\n",
        "        data[cat] = data[cat].astype('category')\n",
        "\n",
        "    # Data preparation\n",
        "    train_sii = data[data['sii'].notna()].copy()\n",
        "    test_sii = data[data['sii'].isnull()].copy()\n",
        "    y_sii = train_sii['sii'].copy()\n",
        "    X_sii = train_sii.drop('sii', axis=1).copy()\n",
        "    test_X_sii = test_sii.drop('sii', axis=1).copy()\n",
        "\n",
        "    # Modeling\n",
        "    lgbm_params = {\n",
        "        'learning_rate': 0.046,\n",
        "        'max_depth': 12,\n",
        "        'num_leaves': 478,\n",
        "        'min_data_in_leaf': 13,\n",
        "        'feature_fraction': 0.893,\n",
        "        'bagging_fraction': 0.784,\n",
        "        'bagging_freq': 4,\n",
        "        'lambda_l1': 10,\n",
        "        'lambda_l2': 0.01\n",
        "    }\n",
        "\n",
        "    model = LGBMRegressor(**lgbm_params, verbose=-1)\n",
        "    model.fit(X_sii, y_sii)\n",
        "\n",
        "    pred = model.predict(test_X_sii)\n",
        "\n",
        "    # Data setting\n",
        "    X_sii['sii'] = y_sii.copy()\n",
        "    test_X_sii['sii'] = np.round(pred.copy())\n",
        "\n",
        "    sii_impute = pd.concat([X_sii, test_X_sii], axis=0)\n",
        "    sii_impute.sort_index(axis=0, inplace=True)\n",
        "\n",
        "    return sii_impute['sii']\n",
        "\n",
        "train_data['sii'] = filling_sii(train_data.copy())"
      ],
      "metadata": {
        "trusted": true,
        "execution": {
          "iopub.status.busy": "2024-12-18T08:39:00.96068Z",
          "iopub.execute_input": "2024-12-18T08:39:00.960975Z",
          "iopub.status.idle": "2024-12-18T08:39:08.038887Z",
          "shell.execute_reply.started": "2024-12-18T08:39:00.960946Z",
          "shell.execute_reply": "2024-12-18T08:39:08.037765Z"
        },
        "id": "TTb9xgX1PB8-"
      },
      "outputs": [],
      "execution_count": null
    },
    {
      "cell_type": "code",
      "source": [
        "train_col = train_data.columns.tolist()\n",
        "test_col = test_data.columns.tolist()\n",
        "\n",
        "features = test_col.copy()"
      ],
      "metadata": {
        "trusted": true,
        "execution": {
          "iopub.status.busy": "2024-12-18T08:39:08.040997Z",
          "iopub.execute_input": "2024-12-18T08:39:08.04135Z",
          "iopub.status.idle": "2024-12-18T08:39:08.046283Z",
          "shell.execute_reply.started": "2024-12-18T08:39:08.041317Z",
          "shell.execute_reply": "2024-12-18T08:39:08.045301Z"
        },
        "id": "fB2CfKDtPB9A"
      },
      "outputs": [],
      "execution_count": null
    },
    {
      "cell_type": "code",
      "source": [
        "main_df = pd.concat([train_data[features], test_data], axis=0)"
      ],
      "metadata": {
        "trusted": true,
        "execution": {
          "iopub.status.busy": "2024-12-18T08:39:08.04767Z",
          "iopub.execute_input": "2024-12-18T08:39:08.04799Z",
          "iopub.status.idle": "2024-12-18T08:39:08.067957Z",
          "shell.execute_reply.started": "2024-12-18T08:39:08.047958Z",
          "shell.execute_reply": "2024-12-18T08:39:08.066814Z"
        },
        "id": "k5Wda10MPB9B"
      },
      "outputs": [],
      "execution_count": null
    },
    {
      "cell_type": "code",
      "source": [
        "num_features = [f for f in features if train_data[f].dtype == 'float' or f=='Basic_Demos-Age']\n",
        "cat_features = [f for f in features if f not in num_features]\n",
        "\n",
        "len(cat_features), len(num_features)"
      ],
      "metadata": {
        "trusted": true,
        "execution": {
          "iopub.status.busy": "2024-12-18T08:39:08.069371Z",
          "iopub.execute_input": "2024-12-18T08:39:08.069741Z",
          "iopub.status.idle": "2024-12-18T08:39:08.079606Z",
          "shell.execute_reply.started": "2024-12-18T08:39:08.069687Z",
          "shell.execute_reply": "2024-12-18T08:39:08.078431Z"
        },
        "id": "0EUyhl-gPB9C"
      },
      "outputs": [],
      "execution_count": null
    },
    {
      "cell_type": "markdown",
      "source": [
        "**Handle missing values in both numeric and categorical features.**"
      ],
      "metadata": {
        "id": "EPXiSoSYPB9E"
      }
    },
    {
      "cell_type": "code",
      "source": [
        "def handling_nulls(df):\n",
        "    imputer = KNNImputer(n_neighbors=2, weights=\"uniform\")\n",
        "\n",
        "    imputer.fit(df[num_features])\n",
        "    df[num_features] = imputer.transform(df[num_features])\n",
        "\n",
        "    for cat in cat_features:\n",
        "        df[cat] = df[cat].fillna('unknown')\n",
        "        df[cat] = df[cat].astype('category')\n",
        "\n",
        "    return df\n",
        "\n",
        "main_df = handling_nulls(main_df)"
      ],
      "metadata": {
        "trusted": true,
        "execution": {
          "iopub.status.busy": "2024-12-18T08:39:08.080925Z",
          "iopub.execute_input": "2024-12-18T08:39:08.081288Z",
          "iopub.status.idle": "2024-12-18T08:39:13.227306Z",
          "shell.execute_reply.started": "2024-12-18T08:39:08.081216Z",
          "shell.execute_reply": "2024-12-18T08:39:13.226304Z"
        },
        "id": "WH0d_cuwPB9E"
      },
      "outputs": [],
      "execution_count": null
    },
    {
      "cell_type": "code",
      "source": [
        "from sklearn.preprocessing import MinMaxScaler\n",
        "\n",
        "df_code = pd.get_dummies(main_df, columns=cat_features)\n",
        "\n",
        "scaler = MinMaxScaler()\n",
        "df_code[num_features] = scaler.fit_transform(df_code[num_features])"
      ],
      "metadata": {
        "trusted": true,
        "execution": {
          "iopub.status.busy": "2024-12-18T08:39:13.228697Z",
          "iopub.execute_input": "2024-12-18T08:39:13.229108Z",
          "iopub.status.idle": "2024-12-18T08:39:13.261369Z",
          "shell.execute_reply.started": "2024-12-18T08:39:13.229066Z",
          "shell.execute_reply": "2024-12-18T08:39:13.260344Z"
        },
        "id": "o3a26pKPPB9F"
      },
      "outputs": [],
      "execution_count": null
    },
    {
      "cell_type": "markdown",
      "source": [
        "# Time series"
      ],
      "metadata": {
        "id": "XWhXyB5aPB9G"
      }
    },
    {
      "cell_type": "code",
      "source": [
        "from tqdm import tqdm\n",
        "from IPython.display import clear_output\n",
        "from concurrent.futures import ThreadPoolExecutor\n",
        "import os"
      ],
      "metadata": {
        "trusted": true,
        "execution": {
          "iopub.status.busy": "2024-12-18T08:39:13.262732Z",
          "iopub.execute_input": "2024-12-18T08:39:13.263194Z",
          "iopub.status.idle": "2024-12-18T08:39:13.276531Z",
          "shell.execute_reply.started": "2024-12-18T08:39:13.263144Z",
          "shell.execute_reply": "2024-12-18T08:39:13.275474Z"
        },
        "id": "12lmdWBzPB9G"
      },
      "outputs": [],
      "execution_count": null
    },
    {
      "cell_type": "code",
      "source": [
        "# Process time series data by reading and summarizing statistics.\n",
        "def process_file(filename, dirname):\n",
        "    data = pd.read_parquet(os.path.join(dirname, filename, 'part-0.parquet'))\n",
        "    data.drop('step', axis=1, inplace=True)\n",
        "    return data.describe().values.reshape(-1), filename.split('=')[1]\n",
        "# Load and aggregate time series data into a summary DataFrame.\n",
        "def load_time_series(dirname) -> pd.DataFrame:\n",
        "    ids = os.listdir(dirname)\n",
        "\n",
        "    with ThreadPoolExecutor() as executor:\n",
        "        results = list(tqdm(executor.map(lambda fname: process_file(fname, dirname), ids), total=len(ids)))\n",
        "    stats, indexes = zip(*results)\n",
        "\n",
        "    data = pd.DataFrame(stats, columns=[f\"stat_{i}\" for i in range(len(stats[0]))])\n",
        "    data['id'] = indexes\n",
        "    return data\n",
        "\n",
        "train_ts = load_time_series('/kaggle/input/child-mind-institute-problematic-internet-use/series_train.parquet')\n",
        "test_ts = load_time_series('/kaggle/input/child-mind-institute-problematic-internet-use/series_test.parquet')\n",
        "\n",
        "time_series_cols = train_ts.columns.tolist()\n",
        "time_series_cols.remove('id')"
      ],
      "metadata": {
        "trusted": true,
        "execution": {
          "iopub.status.busy": "2024-12-18T08:39:13.279614Z",
          "iopub.execute_input": "2024-12-18T08:39:13.279948Z",
          "iopub.status.idle": "2024-12-18T08:42:24.956326Z",
          "shell.execute_reply.started": "2024-12-18T08:39:13.279915Z",
          "shell.execute_reply": "2024-12-18T08:42:24.954835Z"
        },
        "id": "wkiJ8heEPB9H"
      },
      "outputs": [],
      "execution_count": null
    },
    {
      "cell_type": "code",
      "source": [
        "df_main_ts = pd.concat([train_ts, test_ts], axis=0)\n",
        "\n",
        "scaler = MinMaxScaler()\n",
        "df_main_ts[time_series_cols] = scaler.fit_transform(df_main_ts[time_series_cols])"
      ],
      "metadata": {
        "trusted": true,
        "execution": {
          "iopub.status.busy": "2024-12-18T08:42:24.958243Z",
          "iopub.execute_input": "2024-12-18T08:42:24.958661Z",
          "iopub.status.idle": "2024-12-18T08:42:24.984777Z",
          "shell.execute_reply.started": "2024-12-18T08:42:24.958623Z",
          "shell.execute_reply": "2024-12-18T08:42:24.983403Z"
        },
        "id": "tzj2PoS2PB9H"
      },
      "outputs": [],
      "execution_count": null
    },
    {
      "cell_type": "code",
      "source": [
        "df_code = df_code.reset_index()\n",
        "\n",
        "train_df = df_code[:3960].copy()\n",
        "test_df = df_code[3960:].copy()\n",
        "\n",
        "train_df.shape, test_df.shape"
      ],
      "metadata": {
        "trusted": true,
        "execution": {
          "iopub.status.busy": "2024-12-18T08:42:24.98636Z",
          "iopub.execute_input": "2024-12-18T08:42:24.987192Z",
          "iopub.status.idle": "2024-12-18T08:42:25.004034Z",
          "shell.execute_reply.started": "2024-12-18T08:42:24.987139Z",
          "shell.execute_reply": "2024-12-18T08:42:25.002658Z"
        },
        "id": "8empn6FQPB9I"
      },
      "outputs": [],
      "execution_count": null
    },
    {
      "cell_type": "code",
      "source": [
        "train_ts = df_main_ts[:996].copy()\n",
        "test_ts = df_main_ts[996:].copy()\n",
        "\n",
        "train_ts.shape, test_ts.shape"
      ],
      "metadata": {
        "trusted": true,
        "execution": {
          "iopub.status.busy": "2024-12-18T08:42:25.005245Z",
          "iopub.execute_input": "2024-12-18T08:42:25.005539Z",
          "iopub.status.idle": "2024-12-18T08:42:25.017624Z",
          "shell.execute_reply.started": "2024-12-18T08:42:25.005509Z",
          "shell.execute_reply": "2024-12-18T08:42:25.016504Z"
        },
        "id": "-3pcYKEhPB9I"
      },
      "outputs": [],
      "execution_count": null
    },
    {
      "cell_type": "code",
      "source": [
        "main_train_data = pd.merge(train_df, train_ts, how='left', on='id')\n",
        "main_test_data = pd.merge(test_df, test_ts, how='left', on='id')\n",
        "\n",
        "for col in time_series_cols:\n",
        "\n",
        "    main_train_data[col] = main_train_data[col].fillna(main_train_data[col].median())\n",
        "    main_test_data[col] = main_test_data[col].fillna(main_test_data[col].median())\n",
        "\n",
        "main_train_data.shape, main_test_data.shape"
      ],
      "metadata": {
        "trusted": true,
        "execution": {
          "iopub.status.busy": "2024-12-18T08:42:25.018992Z",
          "iopub.execute_input": "2024-12-18T08:42:25.019354Z",
          "iopub.status.idle": "2024-12-18T08:42:25.140724Z",
          "shell.execute_reply.started": "2024-12-18T08:42:25.01932Z",
          "shell.execute_reply": "2024-12-18T08:42:25.139512Z"
        },
        "id": "aXZ8geOYPB9I"
      },
      "outputs": [],
      "execution_count": null
    },
    {
      "cell_type": "markdown",
      "source": [
        "# Train LightGBM model"
      ],
      "metadata": {
        "id": "_iMFm-DFPB9J"
      }
    },
    {
      "cell_type": "code",
      "source": [
        "y = train_data['sii'].copy()\n",
        "X = main_train_data.drop('id', axis=1)\n",
        "XX = main_test_data.drop('id', axis=1)"
      ],
      "metadata": {
        "trusted": true,
        "execution": {
          "iopub.status.busy": "2024-12-18T08:42:25.141819Z",
          "iopub.execute_input": "2024-12-18T08:42:25.142111Z",
          "iopub.status.idle": "2024-12-18T08:42:25.157954Z",
          "shell.execute_reply.started": "2024-12-18T08:42:25.142082Z",
          "shell.execute_reply": "2024-12-18T08:42:25.156586Z"
        },
        "id": "Pjtg8oYjPB9J"
      },
      "outputs": [],
      "execution_count": null
    },
    {
      "cell_type": "code",
      "source": [
        "from sklearn.model_selection import train_test_split\n",
        "\n",
        "X_train, X_test, y_train, y_test = train_test_split(X, y)"
      ],
      "metadata": {
        "trusted": true,
        "execution": {
          "iopub.status.busy": "2024-12-18T08:42:25.159259Z",
          "iopub.execute_input": "2024-12-18T08:42:25.15962Z",
          "iopub.status.idle": "2024-12-18T08:42:25.178156Z",
          "shell.execute_reply.started": "2024-12-18T08:42:25.15958Z",
          "shell.execute_reply": "2024-12-18T08:42:25.176855Z"
        },
        "id": "hqUvoglkPB9J"
      },
      "outputs": [],
      "execution_count": null
    },
    {
      "cell_type": "code",
      "source": [
        "lgbm_params = {\n",
        "    'learning_rate': 0.046,\n",
        "    'max_depth': 12,\n",
        "    'num_leaves': 478,\n",
        "    'min_data_in_leaf': 13,\n",
        "    'feature_fraction': 0.893,\n",
        "    'bagging_fraction': 0.784,\n",
        "    'bagging_freq': 4,\n",
        "    'lambda_l1': 10,\n",
        "    'lambda_l2': 0.01\n",
        "}\n",
        "\n",
        "model = LGBMRegressor(**lgbm_params, verbose=-1)\n",
        "\n",
        "model.fit(X, y)"
      ],
      "metadata": {
        "trusted": true,
        "execution": {
          "iopub.status.busy": "2024-12-18T08:42:25.179647Z",
          "iopub.execute_input": "2024-12-18T08:42:25.179968Z",
          "iopub.status.idle": "2024-12-18T08:42:26.755151Z",
          "shell.execute_reply.started": "2024-12-18T08:42:25.179937Z",
          "shell.execute_reply": "2024-12-18T08:42:26.753944Z"
        },
        "id": "TOo1sf_6PB9K"
      },
      "outputs": [],
      "execution_count": null
    },
    {
      "cell_type": "code",
      "source": [
        "pred = model.predict(XX)"
      ],
      "metadata": {
        "trusted": true,
        "execution": {
          "iopub.status.busy": "2024-12-18T08:42:26.756678Z",
          "iopub.execute_input": "2024-12-18T08:42:26.75714Z",
          "iopub.status.idle": "2024-12-18T08:42:26.767786Z",
          "shell.execute_reply.started": "2024-12-18T08:42:26.757092Z",
          "shell.execute_reply": "2024-12-18T08:42:26.766771Z"
        },
        "id": "_KywNr9_PB9K"
      },
      "outputs": [],
      "execution_count": null
    },
    {
      "cell_type": "markdown",
      "source": [
        "# Submission"
      ],
      "metadata": {
        "id": "HVw-CaI2PB9K"
      }
    },
    {
      "cell_type": "code",
      "source": [
        "sub = pd.DataFrame({'id': main_test_data['id'], 'sii': np.round(pred)})\n",
        "sub.to_csv('submission.csv', index=False)"
      ],
      "metadata": {
        "trusted": true,
        "execution": {
          "iopub.status.busy": "2024-12-18T08:42:26.769206Z",
          "iopub.execute_input": "2024-12-18T08:42:26.769725Z",
          "iopub.status.idle": "2024-12-18T08:42:26.790691Z",
          "shell.execute_reply.started": "2024-12-18T08:42:26.769686Z",
          "shell.execute_reply": "2024-12-18T08:42:26.789614Z"
        },
        "id": "0BdL_pRLPB9L"
      },
      "outputs": [],
      "execution_count": null
    }
  ]
}